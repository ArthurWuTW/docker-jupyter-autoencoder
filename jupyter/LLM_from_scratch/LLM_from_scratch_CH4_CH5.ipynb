{
 "cells": [
  {
   "cell_type": "markdown",
   "id": "e142834a-0312-4ad8-a897-24a657fa10e9",
   "metadata": {},
   "source": [
    "## 4.1 Coding an LLM architecture"
   ]
  },
  {
   "cell_type": "code",
   "execution_count": 1,
   "id": "20dd0169-668e-4426-9b68-5be63a618263",
   "metadata": {},
   "outputs": [],
   "source": [
    "GPT_CONFIG_124M = {\n",
    "\"vocab_size\": 50257,\n",
    "# Vocabulary size\n",
    "\"context_length\": 1024,\n",
    "# Context length\n",
    "\"emb_dim\": 768,# Embedding dimension\n",
    "\"n_heads\": 12,# Number of attention heads\n",
    "\"n_layers\": 12,# Number of layers\n",
    "\"drop_rate\": 0.1,# Dropout rate\n",
    "\"qkv_bias\": False# Query-Key-Value bias\n",
    "}"
   ]
  },
  {
   "cell_type": "code",
   "execution_count": 2,
   "id": "9969887f-a746-4caf-bdf6-18ada915619e",
   "metadata": {},
   "outputs": [
    {
     "data": {
      "text/plain": [
       "{'vocab_size': 50257,\n",
       " 'context_length': 1024,\n",
       " 'emb_dim': 768,\n",
       " 'n_heads': 12,\n",
       " 'n_layers': 12,\n",
       " 'drop_rate': 0.1,\n",
       " 'qkv_bias': False}"
      ]
     },
     "execution_count": 2,
     "metadata": {},
     "output_type": "execute_result"
    }
   ],
   "source": [
    "GPT_CONFIG_124M"
   ]
  },
  {
   "cell_type": "code",
   "execution_count": 4,
   "id": "e8392d53-3f5d-4a21-a2e7-6b690fca19bf",
   "metadata": {},
   "outputs": [],
   "source": [
    "import torch\n",
    "import torch.nn as nn\n",
    "class DummyTransformerBlock(nn.Module):\n",
    "    #C\n",
    "    def __init__(self, cfg):\n",
    "        super().__init__()\n",
    "    def forward(self, x):\n",
    "    #D\n",
    "        return x\n",
    "class DummyLayerNorm(nn.Module):\n",
    "    #E\n",
    "    def __init__(self, normalized_shape, eps=1e-5):\n",
    "        super().__init__()\n",
    "    def forward(self, x):\n",
    "        return x"
   ]
  },
  {
   "cell_type": "code",
   "execution_count": 5,
   "id": "07e63751-4f59-4d61-b64e-6b061fc8197a",
   "metadata": {},
   "outputs": [],
   "source": [
    "class DummyGPTModel(nn.Module):\n",
    "    def __init__(self, cfg):\n",
    "        super().__init__()\n",
    "        self.tok_emb = nn.Embedding(cfg[\"vocab_size\"], cfg[\"emb_dim\"])\n",
    "        self.pos_emb = nn.Embedding(cfg[\"context_length\"], cfg[\"emb_dim\"])\n",
    "        self.drop_emb = nn.Dropout(cfg[\"drop_rate\"])\n",
    "        self.trf_blocks = nn.Sequential(*[DummyTransformerBlock(cfg) for _ in range(cfg[\"n_layers\"])]) #A\n",
    "        self.final_norm = DummyLayerNorm(cfg[\"emb_dim\"])\n",
    "        #B\n",
    "        self.out_head = nn.Linear(cfg[\"emb_dim\"], cfg[\"vocab_size\"], bias=False)\n",
    "    def forward(self, in_idx):\n",
    "        batch_size, seq_len = in_idx.shape\n",
    "        tok_embeds = self.tok_emb(in_idx)\n",
    "        pos_embeds = self.pos_emb(torch.arange(seq_len, device=in_idx.device))\n",
    "        x = tok_embeds + pos_embeds\n",
    "        x = self.drop_emb(x)\n",
    "        x = self.trf_blocks(x)\n",
    "        x = self.final_norm(x)\n",
    "        logits = self.out_head(x)\n",
    "        return logits"
   ]
  },
  {
   "cell_type": "code",
   "execution_count": 8,
   "id": "1ebc736b-791a-4671-b6e4-493444234986",
   "metadata": {},
   "outputs": [],
   "source": [
    "class LayerNorm(nn.Module):\n",
    "    def __init__(self, emb_dim):\n",
    "        super().__init__()\n",
    "        self.eps = 1e-5\n",
    "        self.scale = nn.Parameter(torch.ones(emb_dim))\n",
    "        self.shift = nn.Parameter(torch.zeros(emb_dim))\n",
    "    def forward(self, x):\n",
    "        mean = x.mean(dim=-1, keepdim=True)\n",
    "        var = x.var(dim=-1, keepdim=True, unbiased=False)\n",
    "        norm_x = (x - mean) / torch.sqrt(var + self.eps)\n",
    "        return self.scale * norm_x + self.shift"
   ]
  },
  {
   "cell_type": "code",
   "execution_count": 9,
   "id": "3cfc58ac-c58c-4f4c-9c94-384cb2351e01",
   "metadata": {},
   "outputs": [],
   "source": [
    "class GELU(nn.Module):\n",
    "    def __init__(self):\n",
    "        super().__init__()\n",
    "    def forward(self, x):\n",
    "        return 0.5 * x * (1 + torch.tanh(torch.sqrt(torch.tensor(2.0 / torch.pi)) * (x + 0.044715 * torch.pow(x, 3))))\n"
   ]
  },
  {
   "cell_type": "code",
   "execution_count": 10,
   "id": "daa59876-6edd-449a-9141-cce383852b50",
   "metadata": {},
   "outputs": [],
   "source": [
    "class FeedForward(nn.Module):\n",
    "    def __init__(self, cfg):\n",
    "        super().__init__()\n",
    "        self.layers = nn.Sequential(nn.Linear(cfg[\"emb_dim\"], 4 * cfg[\"emb_dim\"]), GELU(), nn.Linear(4 * cfg[\"emb_dim\"], cfg[\"emb_dim\"]),)\n",
    "    def forward(self, x):\n",
    "        return self.layers(x)"
   ]
  },
  {
   "cell_type": "code",
   "execution_count": 11,
   "id": "26813cab-dcd4-4319-af0e-c3f42a8a7c80",
   "metadata": {},
   "outputs": [],
   "source": [
    "class MultiHeadAttention(nn.Module):\n",
    "\tdef __init__(self, d_in, d_out, context_length, dropout, num_heads, qkv_bias=False):\n",
    "\t\tsuper().__init__()\n",
    "\t\tassert d_out % num_heads == 0, \"d_out must be divisible by num_heads\"\n",
    "\t\tself.d_out = d_out\n",
    "\t\tself.num_heads = num_heads\n",
    "\t\tself.head_dim = d_out // num_heads\n",
    "\t\t#A\n",
    "\t\tself.W_query = nn.Linear(d_in, d_out, bias=qkv_bias)\n",
    "\t\tself.W_key = nn.Linear(d_in, d_out, bias=qkv_bias)\n",
    "\t\tself.W_value = nn.Linear(d_in, d_out, bias=qkv_bias)\n",
    "\t\tself.out_proj = nn.Linear(d_out, d_out)\n",
    "\t\t#B\n",
    "\t\tself.dropout = nn.Dropout(dropout)\n",
    "\t\tself.register_buffer('mask',torch.triu(torch.ones(context_length, context_length), diagonal=1))\n",
    "\tdef forward(self, x):\n",
    "\t\tb, num_tokens, d_in = x.shape\n",
    "\t\tkeys = self.W_key(x)#C\n",
    "\t\tqueries = self.W_query(x)#C\n",
    "\t\tvalues = self.W_value(x)#C\n",
    "\t\tkeys = keys.view(b, num_tokens, self.num_heads, self.head_dim) #D\n",
    "\t\tvalues = values.view(b, num_tokens, self.num_heads, self.head_dim) #D\n",
    "\t\tqueries = queries.view(b, num_tokens, self.num_heads, self.head_dim)#D\n",
    "\t\tkeys = keys.transpose(1, 2)#E\n",
    "\t\tqueries = queries.transpose(1, 2)#E\n",
    "\t\tvalues = values.transpose(1, 2)#E\n",
    "\t\tattn_scores = queries @ keys.transpose(2, 3)\n",
    "\t\t#F\n",
    "\t\tmask_bool = self.mask.bool()[:num_tokens, :num_tokens]#G\n",
    "\t\tattn_scores.masked_fill_(mask_bool, -torch.inf)#H\n",
    "\t\tattn_weights = torch.softmax(\n",
    "\t\tattn_scores / keys.shape[-1]**0.5, dim=-1)\n",
    "\t\tattn_weights = self.dropout(attn_weights)\n",
    "\t\tcontext_vec = (attn_weights @ values).transpose(1, 2) #I\n",
    "\t\t#J\n",
    "\t\tcontext_vec = context_vec.contiguous().view(b, num_tokens, self.d_out)\n",
    "\t\tcontext_vec = self.out_proj(context_vec)\n",
    "\t\t#K\n",
    "\t\treturn context_vec\n",
    "\n",
    "\n",
    "#A Reduce the projection dim to match desired output dim\n",
    "#B Use a Linear layer to combine head outputs\n",
    "#C Tensor shape: (b, num_tokens, d_out)\n",
    "#D We implicitly split the matrix by adding a `num_heads` dimension. Then we unroll last dim: (b, num_tokens, d_out) -> (b, num_tokens, num_heads, head_dim)\n",
    "#E Transpose from shape (b, num_tokens, num_heads, head_dim) to (b, num_heads, num_tokens, head_dim)\n",
    "#F Compute dot product for each head\n",
    "#G Mask truncated to the number of tokens\n",
    "#H Use the mask to fill attention scores\n",
    "#I Tensor shape: (b, num_tokens, n_heads, head_dim)\n",
    "#J Combine heads, where self.d_out = self.num_heads * self.head_dim\n",
    "#K Add an optional linear projection"
   ]
  },
  {
   "cell_type": "code",
   "execution_count": 12,
   "id": "ec37061d-0016-4edf-a32f-c4b545f923ef",
   "metadata": {},
   "outputs": [],
   "source": [
    "class TransformerBlock(nn.Module):\n",
    "    def __init__(self, cfg):\n",
    "        super().__init__()\n",
    "        self.att = MultiHeadAttention(d_in=cfg[\"emb_dim\"], d_out=cfg[\"emb_dim\"], context_length=cfg[\"context_length\"], num_heads=cfg[\"n_heads\"],\n",
    "dropout=cfg[\"drop_rate\"], qkv_bias=cfg[\"qkv_bias\"])\n",
    "        self.ff = FeedForward(cfg)\n",
    "        self.norm1 = LayerNorm(cfg[\"emb_dim\"])\n",
    "        self.norm2 = LayerNorm(cfg[\"emb_dim\"])\n",
    "        self.drop_shortcut = nn.Dropout(cfg[\"drop_rate\"])\n",
    "    def forward(self, x):\n",
    "        #A\n",
    "        shortcut = x\n",
    "        x = self.norm1(x)\n",
    "        x = self.att(x)\n",
    "        x = self.drop_shortcut(x)\n",
    "        x = x + shortcut\n",
    "        # Add the original input back\n",
    "        shortcut = x\n",
    "        #B\n",
    "        x = self.norm2(x)\n",
    "        x = self.ff(x)\n",
    "        x = self.drop_shortcut(x)\n",
    "        x = x + shortcut\n",
    "        #C\n",
    "        return x"
   ]
  },
  {
   "cell_type": "code",
   "execution_count": 13,
   "id": "b9ca2f54-ed5a-4a5b-839d-09eae40b2d50",
   "metadata": {},
   "outputs": [
    {
     "name": "stdout",
     "output_type": "stream",
     "text": [
      "Input shape: torch.Size([2, 4, 768])\n",
      "Output shape: torch.Size([2, 4, 768])\n"
     ]
    }
   ],
   "source": [
    "torch.manual_seed(123)\n",
    "x = torch.rand(2, 4, 768)\n",
    "#A\n",
    "block = TransformerBlock(GPT_CONFIG_124M)\n",
    "output = block(x)\n",
    "print(\"Input shape:\", x.shape)\n",
    "print(\"Output shape:\", output.shape)"
   ]
  },
  {
   "cell_type": "markdown",
   "id": "97178ed2-bc96-49ce-bde0-d1a318ba9999",
   "metadata": {},
   "source": [
    "## 4.6 Coding the GPT model"
   ]
  },
  {
   "cell_type": "code",
   "execution_count": 14,
   "id": "f7afc679-6623-4356-a867-427c9f48b41e",
   "metadata": {},
   "outputs": [],
   "source": [
    "class GPTModel(nn.Module):\n",
    "    def __init__(self, cfg):\n",
    "        super().__init__()\n",
    "        self.tok_emb = nn.Embedding(cfg[\"vocab_size\"], cfg[\"emb_dim\"])\n",
    "        self.pos_emb = nn.Embedding(cfg[\"context_length\"], cfg[\"emb_dim\"])\n",
    "        self.drop_emb = nn.Dropout(cfg[\"drop_rate\"])\n",
    "        self.trf_blocks = nn.Sequential(*[TransformerBlock(cfg) for _ in range(cfg[\"n_layers\"])])\n",
    "        self.final_norm = LayerNorm(cfg[\"emb_dim\"])\n",
    "        self.out_head = nn.Linear(cfg[\"emb_dim\"], cfg[\"vocab_size\"], bias=False)\n",
    "    def forward(self, in_idx):\n",
    "        batch_size, seq_len = in_idx.shape\n",
    "        tok_embeds = self.tok_emb(in_idx)\n",
    "        #A\n",
    "        pos_embeds = self.pos_emb(torch.arange(seq_len, device=in_idx.device))\n",
    "        x = tok_embeds + pos_embeds\n",
    "        x = self.drop_emb(x)\n",
    "        x = self.trf_blocks(x)\n",
    "        x = self.final_norm(x)\n",
    "        logits = self.out_head(x)\n",
    "        return logits"
   ]
  },
  {
   "cell_type": "code",
   "execution_count": null,
   "id": "a42c92e6-53f3-44e6-9428-575928b18cad",
   "metadata": {},
   "outputs": [],
   "source": []
  }
 ],
 "metadata": {
  "kernelspec": {
   "display_name": "Python 3 (ipykernel)",
   "language": "python",
   "name": "python3"
  },
  "language_info": {
   "codemirror_mode": {
    "name": "ipython",
    "version": 3
   },
   "file_extension": ".py",
   "mimetype": "text/x-python",
   "name": "python",
   "nbconvert_exporter": "python",
   "pygments_lexer": "ipython3",
   "version": "3.12.8"
  }
 },
 "nbformat": 4,
 "nbformat_minor": 5
}
