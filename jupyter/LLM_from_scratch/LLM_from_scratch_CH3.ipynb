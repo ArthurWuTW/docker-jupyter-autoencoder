{
 "cells": [
  {
   "cell_type": "code",
   "execution_count": 1,
   "id": "6c466d48-49ce-4240-8a2b-d0f52220f4b9",
   "metadata": {},
   "outputs": [],
   "source": [
    "import torch.nn as nn"
   ]
  },
  {
   "cell_type": "code",
   "execution_count": 2,
   "id": "fd652bce-9be6-4aaf-ad69-ad171f6545f6",
   "metadata": {},
   "outputs": [],
   "source": [
    "class CausalAttention(nn.Module):\n",
    "    def __init__(self, d_in, d_out, context_length, dropout, qkv_bias=False):\n",
    "        super().__init__()\n",
    "        self.d_out = d_out\n",
    "        self.W_query = nn.Linear(d_in, d_out, bias=qkv_bias)\n",
    "        self.W_key = nn.Linear(d_in, d_out, bias=qkv_bias)\n",
    "        self.W_value = nn.Linear(d_in, d_out, bias=qkv_bias)\n",
    "        self.dropout = nn.Dropout(dropout)\n",
    "        #A\n",
    "        self.register_buffer('mask',torch.triu(torch.ones(context_length, context_length),diagonal=1))\n",
    "    #B\n",
    "    def forward(self, x):\n",
    "        b, num_tokens, d_in = x.shape\n",
    "    #C\n",
    "        keys = self.W_key(x)\n",
    "        queries = self.W_query(x)\n",
    "        values = self.W_value(x)\n",
    "        attn_scores = queries @ keys.transpose(1, 2)#C\n",
    "        attn_scores.masked_fill_(#D\n",
    "        self.mask.bool()[:num_tokens, :num_tokens], -torch.inf)\n",
    "        attn_weights = torch.softmax(attn_scores / keys.shape[-1]**0.5, dim=-1)\n",
    "        attn_weights = self.dropout(attn_weights)\n",
    "        context_vec = attn_weights @ values\n",
    "        return context_vec"
   ]
  },
  {
   "cell_type": "code",
   "execution_count": 7,
   "id": "da6ac075-9fec-4674-8207-b5c784b60162",
   "metadata": {},
   "outputs": [
    {
     "name": "stdout",
     "output_type": "stream",
     "text": [
      "torch.Size([2, 6, 3])\n",
      "context_vecs.shape: torch.Size([2, 6, 2])\n"
     ]
    }
   ],
   "source": [
    "import torch\n",
    "inputs = torch.tensor(\n",
    "    [[0.43, 0.15, 0.89], # Your(x^1)\n",
    "    [0.55, 0.87, 0.66], # journey(x^2)\n",
    "    [0.57, 0.85, 0.64], # starts(x^3)\n",
    "    [0.22, 0.58, 0.33], # with(x^4)\n",
    "    [0.77, 0.25, 0.10], # one(x^5)\n",
    "    [0.05, 0.80, 0.55]] # step(x^6)\n",
    ")\n",
    "batch = torch.stack((inputs, inputs), dim=0)\n",
    "print(batch.shape)\n",
    "\n",
    "x_2 = inputs[1]#A\n",
    "d_in = inputs.shape[1]#B\n",
    "d_out = 2#C\n",
    "\n",
    "torch.manual_seed(123)\n",
    "context_length = batch.shape[1]\n",
    "ca = CausalAttention(d_in, d_out, context_length, 0.0)\n",
    "context_vecs = ca(batch)\n",
    "print(\"context_vecs.shape:\", context_vecs.shape)"
   ]
  },
  {
   "cell_type": "markdown",
   "id": "5a027d4e-e587-4f56-9ae4-899e73ce8da6",
   "metadata": {},
   "source": [
    "## 3.6.1 Stacking multiple single-head attention layers"
   ]
  },
  {
   "cell_type": "code",
   "execution_count": 8,
   "id": "d20f5d66-4ca6-4d1a-8301-29b61c7b37a7",
   "metadata": {},
   "outputs": [],
   "source": [
    "class MultiHeadAttentionWrapper(nn.Module):\n",
    "    def __init__(self, d_in, d_out, context_length, dropout, num_heads, qkv_bias=False):\n",
    "        super().__init__()\n",
    "        self.heads = nn.ModuleList([CausalAttention(d_in, d_out, context_length, dropout, qkv_bias) for _ in range(num_heads)])\n",
    "    def forward(self, x):\n",
    "        return torch.cat([head(x) for head in self.heads], dim=-1)"
   ]
  },
  {
   "cell_type": "code",
   "execution_count": 11,
   "id": "db944eec-e76a-4266-812e-a410cf8f9f8e",
   "metadata": {},
   "outputs": [
    {
     "name": "stdout",
     "output_type": "stream",
     "text": [
      "tensor([[[-0.4519,  0.2216,  0.4772,  0.1063],\n",
      "         [-0.5874,  0.0058,  0.5891,  0.3257],\n",
      "         [-0.6300, -0.0632,  0.6202,  0.3860],\n",
      "         [-0.5675, -0.0843,  0.5478,  0.3589],\n",
      "         [-0.5526, -0.0981,  0.5321,  0.3428],\n",
      "         [-0.5299, -0.1081,  0.5077,  0.3493]],\n",
      "\n",
      "        [[-0.4519,  0.2216,  0.4772,  0.1063],\n",
      "         [-0.5874,  0.0058,  0.5891,  0.3257],\n",
      "         [-0.6300, -0.0632,  0.6202,  0.3860],\n",
      "         [-0.5675, -0.0843,  0.5478,  0.3589],\n",
      "         [-0.5526, -0.0981,  0.5321,  0.3428],\n",
      "         [-0.5299, -0.1081,  0.5077,  0.3493]]], grad_fn=<CatBackward0>)\n",
      "context_vecs.shape: torch.Size([2, 6, 4])\n"
     ]
    }
   ],
   "source": [
    "torch.manual_seed(123)\n",
    "context_length = batch.shape[1] # This is the number of tokens\n",
    "d_in, d_out = 3, 2\n",
    "mha = MultiHeadAttentionWrapper(d_in, d_out, context_length, 0.0, num_heads=2)\n",
    "context_vecs = mha(batch)\n",
    "print(context_vecs)\n",
    "print(\"context_vecs.shape:\", context_vecs.shape)"
   ]
  },
  {
   "cell_type": "code",
   "execution_count": 12,
   "id": "06f9de95-f751-4490-8e4c-5565a85e1046",
   "metadata": {},
   "outputs": [],
   "source": [
    "class MultiHeadAttention(nn.Module):\n",
    "\tdef __init__(self, d_in, d_out, context_length, dropout, num_heads, qkv_bias=False):\n",
    "\t\tsuper().__init__()\n",
    "\t\tassert d_out % num_heads == 0, \"d_out must be divisible by num_heads\"\n",
    "\t\tself.d_out = d_out\n",
    "\t\tself.num_heads = num_heads\n",
    "\t\tself.head_dim = d_out // num_heads\n",
    "\t\t#A\n",
    "\t\tself.W_query = nn.Linear(d_in, d_out, bias=qkv_bias)\n",
    "\t\tself.W_key = nn.Linear(d_in, d_out, bias=qkv_bias)\n",
    "\t\tself.W_value = nn.Linear(d_in, d_out, bias=qkv_bias)\n",
    "\t\tself.out_proj = nn.Linear(d_out, d_out)\n",
    "\t\t#B\n",
    "\t\tself.dropout = nn.Dropout(dropout)\n",
    "\t\tself.register_buffer('mask',torch.triu(torch.ones(context_length, context_length), diagonal=1))\n",
    "\tdef forward(self, x):\n",
    "\t\tb, num_tokens, d_in = x.shape\n",
    "\t\tkeys = self.W_key(x)#C\n",
    "\t\tqueries = self.W_query(x)#C\n",
    "\t\tvalues = self.W_value(x)#C\n",
    "\t\tkeys = keys.view(b, num_tokens, self.num_heads, self.head_dim) #D\n",
    "\t\tvalues = values.view(b, num_tokens, self.num_heads, self.head_dim) #D\n",
    "\t\tqueries = queries.view(b, num_tokens, self.num_heads, self.head_dim)#D\n",
    "\t\tkeys = keys.transpose(1, 2)#E\n",
    "\t\tqueries = queries.transpose(1, 2)#E\n",
    "\t\tvalues = values.transpose(1, 2)#E\n",
    "\t\tattn_scores = queries @ keys.transpose(2, 3)\n",
    "\t\t#F\n",
    "\t\tmask_bool = self.mask.bool()[:num_tokens, :num_tokens]#G\n",
    "\t\tattn_scores.masked_fill_(mask_bool, -torch.inf)#H\n",
    "\t\tattn_weights = torch.softmax(\n",
    "\t\tattn_scores / keys.shape[-1]**0.5, dim=-1)\n",
    "\t\tattn_weights = self.dropout(attn_weights)\n",
    "\t\tcontext_vec = (attn_weights @ values).transpose(1, 2) #I\n",
    "\t\t#J\n",
    "\t\tcontext_vec = context_vec.contiguous().view(b, num_tokens, self.d_out)\n",
    "\t\tcontext_vec = self.out_proj(context_vec)\n",
    "\t\t#K\n",
    "\t\treturn context_vec\n",
    "\n",
    "\n",
    "#A Reduce the projection dim to match desired output dim\n",
    "#B Use a Linear layer to combine head outputs\n",
    "#C Tensor shape: (b, num_tokens, d_out)\n",
    "#D We implicitly split the matrix by adding a `num_heads` dimension. Then we unroll last dim: (b, num_tokens, d_out) -> (b, num_tokens, num_heads, head_dim)\n",
    "#E Transpose from shape (b, num_tokens, num_heads, head_dim) to (b, num_heads, num_tokens, head_dim)\n",
    "#F Compute dot product for each head\n",
    "#G Mask truncated to the number of tokens\n",
    "#H Use the mask to fill attention scores\n",
    "#I Tensor shape: (b, num_tokens, n_heads, head_dim)\n",
    "#J Combine heads, where self.d_out = self.num_heads * self.head_dim\n",
    "#K Add an optional linear projection"
   ]
  },
  {
   "cell_type": "code",
   "execution_count": 14,
   "id": "e6c8b53c-219a-4492-86ce-8b542d5ef4c1",
   "metadata": {},
   "outputs": [
    {
     "name": "stdout",
     "output_type": "stream",
     "text": [
      "tensor([[[0.3190, 0.4858],\n",
      "         [0.2943, 0.3897],\n",
      "         [0.2856, 0.3593],\n",
      "         [0.2693, 0.3873],\n",
      "         [0.2639, 0.3928],\n",
      "         [0.2575, 0.4028]],\n",
      "\n",
      "        [[0.3190, 0.4858],\n",
      "         [0.2943, 0.3897],\n",
      "         [0.2856, 0.3593],\n",
      "         [0.2693, 0.3873],\n",
      "         [0.2639, 0.3928],\n",
      "         [0.2575, 0.4028]]], grad_fn=<ViewBackward0>)\n",
      "context_vecs.shape: torch.Size([2, 6, 2])\n"
     ]
    }
   ],
   "source": [
    "torch.manual_seed(123)\n",
    "batch_size, context_length, d_in = batch.shape\n",
    "d_out = 2\n",
    "mha = MultiHeadAttention(d_in, d_out, context_length, 0.0, num_heads=2)\n",
    "context_vecs = mha(batch)\n",
    "print(context_vecs)\n",
    "print(\"context_vecs.shape:\", context_vecs.shape)"
   ]
  },
  {
   "cell_type": "code",
   "execution_count": null,
   "id": "e59e96a5-aa57-4885-b53e-9606f215f6da",
   "metadata": {},
   "outputs": [],
   "source": []
  }
 ],
 "metadata": {
  "kernelspec": {
   "display_name": "Python 3 (ipykernel)",
   "language": "python",
   "name": "python3"
  },
  "language_info": {
   "codemirror_mode": {
    "name": "ipython",
    "version": 3
   },
   "file_extension": ".py",
   "mimetype": "text/x-python",
   "name": "python",
   "nbconvert_exporter": "python",
   "pygments_lexer": "ipython3",
   "version": "3.12.8"
  }
 },
 "nbformat": 4,
 "nbformat_minor": 5
}
